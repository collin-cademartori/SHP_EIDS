{
  "nbformat": 4,
  "nbformat_minor": 0,
  "metadata": {
    "colab": {
      "name": "FasterQwithExperienceReplay.ipynb",
      "provenance": []
    },
    "kernelspec": {
      "name": "python3",
      "display_name": "Python 3"
    }
  },
  "cells": [
    {
      "cell_type": "code",
      "metadata": {
        "id": "kC2MENVLtjyx",
        "colab_type": "code",
        "outputId": "5368ea1d-233e-4f68-f869-ac36ea4b6a21",
        "colab": {
          "base_uri": "https://localhost:8080/",
          "height": 50
        }
      },
      "source": [
        "import gym\n",
        "import random\n",
        "import numpy as np\n",
        "import tensorflow as tf\n",
        "import time\n",
        "from gym.envs.registration import register\n",
        "from IPython.display import clear_output\n",
        "from collections import deque\n",
        "print(\"Using OpenAI Gym:\", gym.__version__)\n",
        "print(\"Using Tensorflow:\", tf.__version__)"
      ],
      "execution_count": 0,
      "outputs": [
        {
          "output_type": "stream",
          "text": [
            "Using OpenAI Gym: 0.10.11\n",
            "Using Tensorflow: 1.14.0\n"
          ],
          "name": "stdout"
        }
      ]
    },
    {
      "cell_type": "code",
      "metadata": {
        "id": "lOQVY7n4tuI6",
        "colab_type": "code",
        "outputId": "53d010f3-b980-444f-fc1b-dedb77556425",
        "colab": {
          "base_uri": "https://localhost:8080/",
          "height": 67
        }
      },
      "source": [
        "# https://github.com/openai/gym/blob/master/gym/envs/toy_text/frozen_lake.py\n",
        "# https://github.com/openai/gym/blob/master/gym/envs/__init__.py\n",
        "try:\n",
        "    register(\n",
        "        id='FrozenLakeNoSlip-v0',\n",
        "        entry_point='gym.envs.toy_text:FrozenLakeEnv',\n",
        "        kwargs={'map_name' : '4x4', 'is_slippery':False},\n",
        "        max_episode_steps=100,\n",
        "        reward_threshold=0.78, # optimum = .8196\n",
        "    )\n",
        "except:\n",
        "    pass\n",
        "\n",
        "# env_name = \"CartPole-v1\"\n",
        "# env_name = \"MountainCar-v0\"\n",
        "# env_name = \"MountainCarContinuous-v0\"\n",
        "# env_name = \"Acrobot-v1\"\n",
        "# env_name = \"Pendulum-v0\"\n",
        "env_name = \"FrozenLake-v0\"\n",
        "env_name = \"FrozenLakeNoSlip-v0\"\n",
        "env = gym.make(env_name)\n",
        "print(\"Observation space:\", env.observation_space)\n",
        "print(\"Action space:\", env.action_space)\n",
        "type(env.action_space)"
      ],
      "execution_count": 0,
      "outputs": [
        {
          "output_type": "stream",
          "text": [
            "Observation space: Discrete(16)\n",
            "Action space: Discrete(4)\n"
          ],
          "name": "stdout"
        },
        {
          "output_type": "execute_result",
          "data": {
            "text/plain": [
              "gym.spaces.discrete.Discrete"
            ]
          },
          "metadata": {
            "tags": []
          },
          "execution_count": 2
        }
      ]
    },
    {
      "cell_type": "code",
      "metadata": {
        "id": "Q6uYMU7dtx3S",
        "colab_type": "code",
        "colab": {}
      },
      "source": [
        "class Agent():\n",
        "    def __init__(self, env):\n",
        "        self.is_discrete = \\\n",
        "            type(env.action_space) == gym.spaces.discrete.Discrete\n",
        "        \n",
        "        if self.is_discrete:\n",
        "            self.action_size = env.action_space.n\n",
        "            print(\"Action size:\", self.action_size)\n",
        "        else:\n",
        "            self.action_low = env.action_space.low\n",
        "            self.action_high = env.action_space.high\n",
        "            self.action_shape = env.action_space.shape\n",
        "            print(\"Action range:\", self.action_low, self.action_high)\n",
        "        \n",
        "    def get_action(self, state):\n",
        "        if self.is_discrete:\n",
        "            action = random.choice(range(self.action_size))\n",
        "        else:\n",
        "            action = np.random.uniform(self.action_low,\n",
        "                                       self.action_high,\n",
        "                                       self.action_shape)\n",
        "        return action"
      ],
      "execution_count": 0,
      "outputs": []
    },
    {
      "cell_type": "code",
      "metadata": {
        "id": "VFo715DWtyxL",
        "colab_type": "code",
        "outputId": "18c7d5a7-5ebb-4c6e-c8e0-3bb17c26fb37",
        "colab": {
          "base_uri": "https://localhost:8080/",
          "height": 188
        }
      },
      "source": [
        "class QNAgent(Agent):\n",
        "    def __init__(self, env, discount_rate=0.97, learning_rate=0.001):\n",
        "        super().__init__(env)\n",
        "        self.state_size = env.observation_space.n\n",
        "        print(\"State size:\", self.state_size)\n",
        "        \n",
        "        self.eps = 1.0\n",
        "        self.discount_rate = discount_rate\n",
        "        self.learning_rate = learning_rate\n",
        "        self.build_model()\n",
        "        \n",
        "        self.sess = tf.Session()\n",
        "        self.sess.run(tf.global_variables_initializer())\n",
        "        self.replay_buffer = deque(maxlen=1000)\n",
        "        \n",
        "    def build_model(self):\n",
        "        tf.reset_default_graph()\n",
        "        self.state_in = tf.placeholder(tf.int32, shape=[None])\n",
        "        self.action_in = tf.placeholder(tf.int32, shape=[None])\n",
        "        self.target_in = tf.placeholder(tf.float32, shape=[None])\n",
        "        \n",
        "        self.state = tf.one_hot(self.state_in, depth=self.state_size)\n",
        "        self.action = tf.one_hot(self.action_in, depth=self.action_size)\n",
        "        \n",
        "        self.q_state = tf.layers.dense(self.state, units=self.action_size, name=\"q_table\")\n",
        "        self.q_action = tf.reduce_sum(tf.multiply(self.q_state, self.action), axis=1)\n",
        "        \n",
        "        self.loss = tf.reduce_sum(tf.square(self.target_in - self.q_action))\n",
        "        self.optimizer = tf.train.AdamOptimizer(self.learning_rate).minimize(self.loss)\n",
        "        \n",
        "    def get_action(self, state):\n",
        "        q_state = self.sess.run(self.q_state, feed_dict={self.state_in: [state]})\n",
        "        action_greedy = np.argmax(q_state)\n",
        "        action_random = super().get_action(state)\n",
        "        return action_random if random.random() < self.eps else action_greedy\n",
        "    \n",
        "    def train(self, experience, batch_size=50):\n",
        "        self.replay_buffer.append(experience)\n",
        "        samples = random.choices(self.replay_buffer, k=batch_size)\n",
        "        state, action, next_state, reward, done = (list(col) for col in zip(experience, *samples))\n",
        "#         state, action, next_state, reward, done = ([exp] for exp in experience)\n",
        "        \n",
        "        q_next = self.sess.run(self.q_state, feed_dict={self.state_in: next_state})\n",
        "        q_next[done] = np.zeros([self.action_size])\n",
        "        q_target = reward + self.discount_rate * np.max(q_next, axis=1)\n",
        "        \n",
        "        feed = {self.state_in: state, self.action_in: action, self.target_in: q_target}\n",
        "        self.sess.run(self.optimizer, feed_dict=feed)\n",
        "        \n",
        "        if experience[4]:\n",
        "            self.eps = self.eps * 0.99\n",
        "            \n",
        "    def __del__(self):\n",
        "        self.sess.close()\n",
        "        \n",
        "agent = QNAgent(env)"
      ],
      "execution_count": 0,
      "outputs": [
        {
          "output_type": "stream",
          "text": [
            "WARNING: Logging before flag parsing goes to stderr.\n",
            "W0705 19:58:22.652314 140118491850624 deprecation.py:323] From <ipython-input-4-2634a35d005f>:25: dense (from tensorflow.python.layers.core) is deprecated and will be removed in a future version.\n",
            "Instructions for updating:\n",
            "Use keras.layers.dense instead.\n",
            "W0705 19:58:22.658199 140118491850624 deprecation.py:506] From /usr/local/lib/python3.6/dist-packages/tensorflow/python/ops/init_ops.py:1251: calling VarianceScaling.__init__ (from tensorflow.python.ops.init_ops) with dtype is deprecated and will be removed in a future version.\n",
            "Instructions for updating:\n",
            "Call initializer instance with the dtype argument instead of passing it to the constructor\n"
          ],
          "name": "stderr"
        },
        {
          "output_type": "stream",
          "text": [
            "Action size: 4\n",
            "State size: 16\n"
          ],
          "name": "stdout"
        }
      ]
    },
    {
      "cell_type": "code",
      "metadata": {
        "id": "1UcbjpPOt2HT",
        "colab_type": "code",
        "outputId": "3808ed24-7ca6-4fc8-b9be-fe16f0393727",
        "colab": {
          "base_uri": "https://localhost:8080/",
          "height": 423
        }
      },
      "source": [
        "total_reward = 0\n",
        "for ep in range(100):\n",
        "    state = env.reset()\n",
        "    done = False\n",
        "    while not done:\n",
        "        action = agent.get_action(state)\n",
        "        next_state, reward, done, info = env.step(action)\n",
        "        agent.train((state,action,next_state,reward,done))\n",
        "        state = next_state\n",
        "        total_reward += reward\n",
        "        \n",
        "        print(\"s:\", state, \"a:\", action)\n",
        "        print(\"Episode: {}, Total reward: {}, eps: {}\".format(ep,total_reward,agent.eps))\n",
        "        env.render()\n",
        "        with tf.variable_scope(\"q_table\", reuse=True):\n",
        "            weights = agent.sess.run(tf.get_variable(\"kernel\"))\n",
        "            print(weights)\n",
        "        time.sleep(0.05)\n",
        "        clear_output(wait=True)"
      ],
      "execution_count": 0,
      "outputs": [
        {
          "output_type": "stream",
          "text": [
            "s: 15 a: 2\n",
            "Episode: 99, Total reward: 10.0, eps: 0.36603234127322926\n",
            "  (Right)\n",
            "SFFF\n",
            "FHFH\n",
            "FFFH\n",
            "HFF\u001b[41mG\u001b[0m\n",
            "[[-0.04584705  0.07769454  0.19917153 -0.00808878]\n",
            " [ 0.0350915  -0.3022641   0.2084347   0.07509305]\n",
            " [-0.06622496  0.19634576  0.17970185 -0.13775636]\n",
            " [ 0.03527671 -0.3021234   0.17925194  0.06669914]\n",
            " [-0.01531944  0.1413058  -0.2893547   0.04121694]\n",
            " [ 0.32798105 -0.09357581 -0.26817852  0.4200408 ]\n",
            " [-0.35138923  0.29255807 -0.30444932  0.07638562]\n",
            " [ 0.29421383 -0.14408109 -0.1856449  -0.07174999]\n",
            " [ 0.00705085 -0.19718155  0.05276529  0.02733897]\n",
            " [-0.04567379  0.24569622  0.313857   -0.34636053]\n",
            " [-0.2829657   0.3660971  -0.30045632  0.14709471]\n",
            " [-0.21984807  0.02005088  0.20207137 -0.25591874]\n",
            " [ 0.3560717  -0.391821   -0.35326016  0.21551597]\n",
            " [ 0.08807011 -0.5154503   0.2593291   0.13870323]\n",
            " [-0.04755066 -0.1554116   0.42052603 -0.20963635]\n",
            " [ 0.27472287  0.03583795 -0.22101432  0.31483865]]\n"
          ],
          "name": "stdout"
        }
      ]
    }
  ]
}