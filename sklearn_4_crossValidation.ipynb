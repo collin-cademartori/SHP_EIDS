{
  "nbformat": 4,
  "nbformat_minor": 0,
  "metadata": {
    "colab": {
      "name": "sklearn_4_crossValidation.ipynb",
      "provenance": [],
      "include_colab_link": true
    },
    "kernelspec": {
      "name": "python3",
      "display_name": "Python 3"
    },
    "accelerator": "GPU"
  },
  "cells": [
    {
      "cell_type": "markdown",
      "metadata": {
        "id": "view-in-github",
        "colab_type": "text"
      },
      "source": [
        "<a href=\"https://colab.research.google.com/github/lydiahsu/SHP_Fall_2019/blob/ipynb/sklearn_4_crossValidation.ipynb\" target=\"_parent\"><img src=\"https://colab.research.google.com/assets/colab-badge.svg\" alt=\"Open In Colab\"/></a>"
      ]
    },
    {
      "cell_type": "code",
      "metadata": {
        "id": "P6JS4h7rXmIq",
        "colab_type": "code",
        "outputId": "8c9abfae-07ce-4969-d3d7-fff371ada680",
        "colab": {
          "base_uri": "https://localhost:8080/",
          "height": 34
        }
      },
      "source": [
        "from sklearn.datasets import load_iris \n",
        "from sklearn.model_selection import train_test_split \n",
        "from sklearn.neighbors import KNeighborsClassifier \n",
        "\n",
        "# load data\n",
        "iris = load_iris()\n",
        "X = iris.data\n",
        "y = iris.target\n",
        "\n",
        "# split into training/testing data\n",
        "X_train, X_test, y_train, y_test = train_test_split(X, y, random_state=4)\n",
        "\n",
        "# model building \n",
        "# default neighbor = 5 \n",
        "knn = KNeighborsClassifier()\n",
        "\n",
        "# training\n",
        "knn.fit(X_train, y_train)\n",
        "\n",
        "# precision\n",
        "print(knn.score(X_test, y_test))\n",
        "# 0.973684210526"
      ],
      "execution_count": 0,
      "outputs": [
        {
          "output_type": "stream",
          "text": [
            "0.9736842105263158\n"
          ],
          "name": "stdout"
        }
      ]
    },
    {
      "cell_type": "code",
      "metadata": {
        "id": "cQQH8DW6YdQw",
        "colab_type": "code",
        "outputId": "b393c8d6-d570-415e-dc2f-1b592044ac28",
        "colab": {
          "base_uri": "https://localhost:8080/",
          "height": 51
        }
      },
      "source": [
        "from sklearn.model_selection import cross_val_score # k-fold cross validation\n",
        "\n",
        "scores = cross_val_score(knn, X, y, cv=5, scoring='accuracy')\n",
        "\n",
        "print(scores)\n",
        "\n",
        "# average\n",
        "print(scores.mean())"
      ],
      "execution_count": 0,
      "outputs": [
        {
          "output_type": "stream",
          "text": [
            "[0.96666667 1.         0.93333333 0.96666667 1.        ]\n",
            "0.9733333333333334\n"
          ],
          "name": "stdout"
        }
      ]
    },
    {
      "cell_type": "markdown",
      "metadata": {
        "id": "2cM0VY1nZkVs",
        "colab_type": "text"
      },
      "source": [
        "**Change the number of neighbors**"
      ]
    },
    {
      "cell_type": "code",
      "metadata": {
        "id": "ANa6msg6ZfwH",
        "colab_type": "code",
        "outputId": "315cedb9-8349-498a-fe72-bda0239e4a3e",
        "colab": {
          "base_uri": "https://localhost:8080/",
          "height": 283
        }
      },
      "source": [
        "import matplotlib.pyplot as plt\n",
        "\n",
        "# set model parameter\n",
        "k_range = range(1, 31)\n",
        "\n",
        "k_scores = []\n",
        "\n",
        "for k in k_range:\n",
        "    knn = KNeighborsClassifier(n_neighbors=k)\n",
        "    scores = cross_val_score(knn, X, y, cv=10, scoring='accuracy')\n",
        "    k_scores.append(scores.mean())\n",
        "\n",
        "# plots\n",
        "plt.plot(k_range, k_scores)\n",
        "plt.xlabel('Value of K for KNN')\n",
        "plt.ylabel('Cross-Validated Accuracy')\n",
        "plt.show()"
      ],
      "execution_count": 0,
      "outputs": [
        {
          "output_type": "display_data",
          "data": {
            "image/png": "[encoded data removed]",
            "text/plain": [
              "<Figure size 432x288 with 1 Axes>"
            ]
          },
          "metadata": {
            "tags": []
          }
        }
      ]
    },
    {
      "cell_type": "markdown",
      "metadata": {
        "id": "LEFqf43mZ7l2",
        "colab_type": "text"
      },
      "source": [
        "**Second example**"
      ]
    },
    {
      "cell_type": "code",
      "metadata": {
        "id": "YnZjZLEuZ-Cr",
        "colab_type": "code",
        "colab": {}
      },
      "source": [
        "from sklearn.model_selection import learning_curve\n",
        "from sklearn.datasets import load_digits \n",
        "from sklearn.svm import SVC #Support Vector Classifier\n",
        "import matplotlib.pyplot as plt \n",
        "import numpy as np"
      ],
      "execution_count": 0,
      "outputs": []
    },
    {
      "cell_type": "code",
      "metadata": {
        "id": "GibmSQ46aFY1",
        "colab_type": "code",
        "colab": {}
      },
      "source": [
        "digits = load_digits()\n",
        "X = digits.data\n",
        "y = digits.target"
      ],
      "execution_count": 0,
      "outputs": []
    },
    {
      "cell_type": "code",
      "metadata": {
        "id": "NhMazroDaPZ9",
        "colab_type": "code",
        "outputId": "3cb8eca3-12d6-4c8e-be8a-cb01646e837e",
        "colab": {
          "base_uri": "https://localhost:8080/",
          "height": 136
        }
      },
      "source": [
        "print(X)"
      ],
      "execution_count": 0,
      "outputs": [
        {
          "output_type": "stream",
          "text": [
            "[[ 0.  0.  5. ...  0.  0.  0.]\n",
            " [ 0.  0.  0. ... 10.  0.  0.]\n",
            " [ 0.  0.  0. ... 16.  9.  0.]\n",
            " ...\n",
            " [ 0.  0.  1. ...  6.  0.  0.]\n",
            " [ 0.  0.  2. ... 12.  0.  0.]\n",
            " [ 0.  0. 10. ... 12.  1.  0.]]\n"
          ],
          "name": "stdout"
        }
      ]
    },
    {
      "cell_type": "code",
      "metadata": {
        "id": "JNu8ZPk8aV7p",
        "colab_type": "code",
        "colab": {}
      },
      "source": [
        "train_sizes, train_loss, test_loss = learning_curve(\n",
        "    SVC(gamma=0.001), X, y, cv=10, scoring='neg_mean_squared_error',\n",
        "    train_sizes=[0.1, 0.25, 0.5, 0.75, 1])\n",
        "\n",
        "train_loss_mean = -np.mean(train_loss, axis=1)\n",
        "test_loss_mean = -np.mean(test_loss, axis=1)"
      ],
      "execution_count": 0,
      "outputs": []
    },
    {
      "cell_type": "code",
      "metadata": {
        "id": "TVztssZ9aqQ5",
        "colab_type": "code",
        "outputId": "42f7fec2-f8e4-4246-8014-4db60d58c6ad",
        "colab": {
          "base_uri": "https://localhost:8080/",
          "height": 283
        }
      },
      "source": [
        "plt.plot(train_sizes, train_loss_mean, 'o-', color=\"r\",\n",
        "         label=\"Training\")\n",
        "plt.plot(train_sizes, test_loss_mean, 'o-', color=\"g\",\n",
        "        label=\"Cross-validation\")\n",
        "\n",
        "plt.xlabel(\"Training examples\")\n",
        "plt.ylabel(\"Loss\")\n",
        "plt.legend(loc=\"best\")\n",
        "plt.show()"
      ],
      "execution_count": 0,
      "outputs": [
        {
          "output_type": "display_data",
          "data": {
            "image/png": "[encoded data removed]",
            "text/plain": [
              "<Figure size 432x288 with 1 Axes>"
            ]
          },
          "metadata": {
            "tags": []
          }
        }
      ]
    },
    {
      "cell_type": "markdown",
      "metadata": {
        "id": "ov1RkGyEbSEc",
        "colab_type": "text"
      },
      "source": [
        "**Third Example**"
      ]
    },
    {
      "cell_type": "code",
      "metadata": {
        "id": "IIlygLRQbYkM",
        "colab_type": "code",
        "outputId": "07c33007-8cd2-4067-864c-449209b593a4",
        "colab": {
          "base_uri": "https://localhost:8080/",
          "height": 283
        }
      },
      "source": [
        "from sklearn.model_selection import validation_curve \n",
        "#from sklearn.datasets import load_digits \n",
        "#from sklearn.svm import SVC \n",
        "#import matplotlib.pyplot as plt \n",
        "#import numpy as np\n",
        "\n",
        "\n",
        "#digits = load_digits()\n",
        "#X = digits.data\n",
        "#y = digits.target\n",
        "\n",
        "# parameter range setup\n",
        "param_range = np.logspace(-6, -2.3, 5)\n",
        "\n",
        "train_loss, test_loss = validation_curve(\n",
        "    SVC(), X, y, param_name='gamma', param_range=param_range, cv=10, scoring='neg_mean_squared_error')\n",
        "\n",
        "train_loss_mean = -np.mean(train_loss, axis=1)\n",
        "test_loss_mean = -np.mean(test_loss, axis=1)\n",
        "\n",
        "# plots\n",
        "plt.plot(param_range, train_loss_mean, 'o-', color=\"r\",\n",
        "         label=\"Training\")\n",
        "plt.plot(param_range, test_loss_mean, 'o-', color=\"g\",\n",
        "        label=\"Cross-validation\")\n",
        "\n",
        "plt.xlabel(\"gamma\")\n",
        "plt.ylabel(\"Loss\")\n",
        "plt.legend(loc=\"best\")\n",
        "plt.show()"
      ],
      "execution_count": 0,
      "outputs": [
        {
          "output_type": "display_data",
          "data": {
            "image/png": "[encoded data removed]",
            "text/plain": [
              "<Figure size 432x288 with 1 Axes>"
            ]
          },
          "metadata": {
            "tags": []
          }
        }
      ]
    }
  ]
}